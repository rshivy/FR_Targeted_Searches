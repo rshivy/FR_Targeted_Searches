{
 "cells": [
  {
   "cell_type": "code",
   "id": "initial_id",
   "metadata": {
    "collapsed": true,
    "ExecuteTime": {
     "end_time": "2024-06-12T19:51:17.645421Z",
     "start_time": "2024-06-12T19:51:17.620161Z"
    }
   },
   "source": [
    "import numpy as np\n",
    "import json\n",
    "import matplotlib.pyplot as plt\n",
    "%matplotlib notebook\n",
    "import la_forge.core as co"
   ],
   "outputs": [],
   "execution_count": 26
  },
  {
   "metadata": {
    "ExecuteTime": {
     "end_time": "2024-06-12T20:01:36.539595Z",
     "start_time": "2024-06-12T20:01:36.532820Z"
    }
   },
   "cell_type": "code",
   "source": "chaindir = 'data/chains/ng15_v1p1/ZTF18abxxohm_UL/'",
   "id": "ebfc704b02d060e2",
   "outputs": [],
   "execution_count": 41
  },
  {
   "metadata": {
    "ExecuteTime": {
     "end_time": "2024-06-12T20:02:00.681427Z",
     "start_time": "2024-06-12T20:02:00.317070Z"
    }
   },
   "cell_type": "code",
   "source": [
    "c0 = co.Core(chaindir=chaindir,\n",
    "             label='First test ZTF18abxxohm')"
   ],
   "id": "53f4ac133fa36531",
   "outputs": [],
   "execution_count": 42
  },
  {
   "metadata": {
    "ExecuteTime": {
     "end_time": "2024-06-12T20:02:06.761728Z",
     "start_time": "2024-06-12T20:02:06.758167Z"
    }
   },
   "cell_type": "code",
   "source": [
    "print('Number of parameters: \\t',len(c0.params))\n",
    "print('Chain shape: \\t\\t',c0.chain.shape)\n",
    "print('Burn: \\t\\t\\t' , c0.burn)"
   ],
   "id": "492defcf7b06e75",
   "outputs": [
    {
     "name": "stdout",
     "output_type": "stream",
     "text": [
      "Number of parameters: \t 28\n",
      "Chain shape: \t\t (50001, 28)\n",
      "Burn: \t\t\t 12500\n"
     ]
    }
   ],
   "execution_count": 43
  },
  {
   "metadata": {
    "ExecuteTime": {
     "end_time": "2024-06-12T20:03:25.039485Z",
     "start_time": "2024-06-12T20:03:25.030488Z"
    }
   },
   "cell_type": "code",
   "source": "c0.params",
   "id": "278437479181f402",
   "outputs": [
    {
     "data": {
      "text/plain": [
       "['J0613-0200_cw_p_dist',\n",
       " 'J0613-0200_cw_p_phase',\n",
       " 'J0613-0200_red_noise_gamma',\n",
       " 'J0613-0200_red_noise_log10_A',\n",
       " 'J0636+5128_cw_p_dist',\n",
       " 'J0636+5128_cw_p_phase',\n",
       " 'J0636+5128_red_noise_gamma',\n",
       " 'J0636+5128_red_noise_log10_A',\n",
       " 'J1022+1001_cw_p_dist',\n",
       " 'J1022+1001_cw_p_phase',\n",
       " 'J1022+1001_red_noise_gamma',\n",
       " 'J1022+1001_red_noise_log10_A',\n",
       " 'J1312+0051_cw_p_dist',\n",
       " 'J1312+0051_cw_p_phase',\n",
       " 'J1312+0051_red_noise_gamma',\n",
       " 'J1312+0051_red_noise_log10_A',\n",
       " 'J2317+1439_cw_p_dist',\n",
       " 'J2317+1439_cw_p_phase',\n",
       " 'J2317+1439_red_noise_gamma',\n",
       " 'J2317+1439_red_noise_log10_A',\n",
       " 'cos_inc',\n",
       " 'log10_mc',\n",
       " 'phase0',\n",
       " 'psi',\n",
       " 'lnpost',\n",
       " 'lnlike',\n",
       " 'chain_accept',\n",
       " 'pt_chain_accept']"
      ]
     },
     "execution_count": 44,
     "metadata": {},
     "output_type": "execute_result"
    }
   ],
   "execution_count": 44
  },
  {
   "metadata": {
    "ExecuteTime": {
     "end_time": "2024-06-12T20:04:01.282090Z",
     "start_time": "2024-06-12T20:04:01.274005Z"
    }
   },
   "cell_type": "code",
   "source": "c0('log10_mc') # samples of log10 chirp mass after burn-in",
   "id": "cc49c4f8cf1aebb5",
   "outputs": [
    {
     "data": {
      "text/plain": [
       "(37501,)"
      ]
     },
     "execution_count": 47,
     "metadata": {},
     "output_type": "execute_result"
    }
   ],
   "execution_count": 47
  },
  {
   "metadata": {
    "ExecuteTime": {
     "end_time": "2024-06-12T20:05:43.967548Z",
     "start_time": "2024-06-12T20:05:43.954640Z"
    }
   },
   "cell_type": "code",
   "source": "c0.credint('log10_mc',interval=95,onesided=True) # 95% credible upper limit on log10 chirp mass",
   "id": "204609380da628ea",
   "outputs": [
    {
     "data": {
      "text/plain": [
       "10.047205085815555"
      ]
     },
     "execution_count": 48,
     "metadata": {},
     "output_type": "execute_result"
    }
   ],
   "execution_count": 48
  },
  {
   "metadata": {
    "ExecuteTime": {
     "end_time": "2024-06-12T20:08:06.526142Z",
     "start_time": "2024-06-12T20:08:06.521745Z"
    }
   },
   "cell_type": "code",
   "source": "",
   "id": "4dca33d84d1338f0",
   "outputs": [],
   "execution_count": 54
  },
  {
   "metadata": {},
   "cell_type": "code",
   "outputs": [],
   "execution_count": null,
   "source": "",
   "id": "f839a7b467818fce"
  }
 ],
 "metadata": {
  "kernelspec": {
   "display_name": "Python 3",
   "language": "python",
   "name": "python3"
  },
  "language_info": {
   "codemirror_mode": {
    "name": "ipython",
    "version": 2
   },
   "file_extension": ".py",
   "mimetype": "text/x-python",
   "name": "python",
   "nbconvert_exporter": "python",
   "pygments_lexer": "ipython2",
   "version": "2.7.6"
  }
 },
 "nbformat": 4,
 "nbformat_minor": 5
}
